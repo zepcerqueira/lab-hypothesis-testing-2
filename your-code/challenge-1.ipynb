{
 "cells": [
  {
   "cell_type": "markdown",
   "metadata": {},
   "source": [
    "# Challenge 1 - T-test\n",
    "\n",
    "In statistics, t-test is used to test if two data samples have a significant difference between their means. There are two types of t-test:\n",
    "\n",
    "* **Student's t-test** (a.k.a. independent or uncorrelated t-test). This type of t-test is to compare the samples of **two independent populations** (e.g. test scores of students in two different classes). `scipy` provides the [`ttest_ind`](https://docs.scipy.org/doc/scipy-0.15.1/reference/generated/scipy.stats.ttest_ind.html) method to conduct student's t-test.\n",
    "\n",
    "* **Paired t-test** (a.k.a. dependent or correlated t-test). This type of t-test is to compare the samples of **the same population** (e.g. scores of different tests of students in the same class). `scipy` provides the [`ttest_re`](https://docs.scipy.org/doc/scipy-0.15.1/reference/generated/scipy.stats.ttest_rel.html) method to conduct paired t-test.\n",
    "\n",
    "Both types of t-tests return a number which is called the **p-value**. If p-value is below 0.05, we can confidently declare the null-hypothesis is rejected and the difference is significant. If p-value is between 0.05 and 0.1, we may also declare the null-hypothesis is rejected but we are not highly confident. If p-value is above 0.1 we do not reject the null-hypothesis.\n",
    "\n",
    "Read more about the t-test in [this article](http://b.link/test50) and [this Quora](http://b.link/unpaired97). Make sure you understand when to use which type of t-test. "
   ]
  },
  {
   "cell_type": "code",
   "execution_count": 1,
   "metadata": {},
   "outputs": [],
   "source": [
    "# Import libraries\n",
    "import pandas as pd\n",
    "import scipy.stats as stats\n"
   ]
  },
  {
   "cell_type": "markdown",
   "metadata": {},
   "source": [
    "#### Import dataset\n",
    "\n",
    "In this challenge we will work on the Pokemon dataset. The goal is to test whether different groups of pokemon (e.g. Legendary vs Normal, Generation 1 vs 2, single-type vs dual-type) have different stats (e.g. HP, Attack, Defense, etc.)."
   ]
  },
  {
   "cell_type": "code",
   "execution_count": 2,
   "metadata": {},
   "outputs": [],
   "source": [
    "# Your code here:\n",
    "\n",
    "file_path = \"Pokemon.csv\"\n",
    "\n",
    "pokemon_df = pd.read_csv(file_path)\n",
    "\n"
   ]
  },
  {
   "cell_type": "markdown",
   "metadata": {},
   "source": [
    "#### First we want to define a function with which we can test the means of a feature set of two samples. \n",
    "\n",
    "In the next cell you'll see the annotations of the Python function that explains what this function does and its arguments and returned value. This type of annotation is called **docstring** which is a convention used among Python developers. The docstring convention allows developers to write consistent tech documentations for their codes so that others can read. It also allows some websites to automatically parse the docstrings and display user-friendly documentations.\n",
    "\n",
    "Follow the specifications of the docstring and complete the function."
   ]
  },
  {
   "cell_type": "code",
   "execution_count": 3,
   "metadata": {},
   "outputs": [],
   "source": [
    "def t_test_features(s1, s2, features=['HP', 'Attack', 'Defense', 'Sp. Atk', 'Sp. Def', 'Speed', 'Total']):\n",
    "    \"\"\"Test means of a feature set of two samples\n",
    "    \n",
    "    Args:\n",
    "        s1 (dataframe): sample 1\n",
    "        s2 (dataframe): sample 2\n",
    "        features (list): an array of features to test\n",
    "    \n",
    "    Returns:\n",
    "        dict: a dictionary of t-test scores for each feature where the feature name is the key and the p-value is the value\n",
    "    \"\"\"\n",
    "    \n",
    "    results = {}\n",
    "\n",
    "    # Your code here\n",
    "\n",
    "    for feature in features:\n",
    "\n",
    "        sample1_values = s1[feature]\n",
    "        sample2_values = s2[feature]\n",
    "        \n",
    "        t_stat, p_value = stats.ttest_ind(sample1_values, sample2_values)\n",
    "        results[feature] = p_value\n",
    "\n",
    "    return results"
   ]
  },
  {
   "cell_type": "code",
   "execution_count": 4,
   "metadata": {},
   "outputs": [
    {
     "data": {
      "text/plain": [
       "{'HP': 0.2901857747516363,\n",
       " 'Attack': 0.44454614858173114,\n",
       " 'Defense': 0.40499638697774176,\n",
       " 'Sp. Atk': 0.36190312434802097,\n",
       " 'Sp. Def': 0.9402537653539583,\n",
       " 'Speed': 0.4085859372520645,\n",
       " 'Total': 0.2921590890436324}"
      ]
     },
     "execution_count": 4,
     "metadata": {},
     "output_type": "execute_result"
    }
   ],
   "source": [
    "s1 = pokemon_df.sample(100)\n",
    "s2 = pokemon_df.sample(100)\n",
    "\n",
    "results = t_test_features(s1, s2)\n",
    "results"
   ]
  },
  {
   "cell_type": "markdown",
   "metadata": {},
   "source": [
    "#### Using the `t_test_features` function, conduct t-test for Lengendary vs non-Legendary pokemons.\n",
    "\n",
    "*Hint: your output should look like below:*\n",
    "\n",
    "```\n",
    "{'HP': 1.0026911708035284e-13,\n",
    " 'Attack': 2.520372449236646e-16,\n",
    " 'Defense': 4.8269984949193316e-11,\n",
    " 'Sp. Atk': 1.5514614112239812e-21,\n",
    " 'Sp. Def': 2.2949327864052826e-15,\n",
    " 'Speed': 1.049016311882451e-18,\n",
    " 'Total': 9.357954335957446e-47}\n",
    " ```"
   ]
  },
  {
   "cell_type": "code",
   "execution_count": 5,
   "metadata": {},
   "outputs": [],
   "source": [
    "# Your code here\n",
    "\n",
    "def t_test_features(s3, s4, features=['HP', 'Attack', 'Defense', 'Sp. Atk', 'Sp. Def', 'Speed', 'Total']):\n",
    "    \n",
    "    results = {}\n",
    "    \n",
    "    for feature in features:\n",
    "        \n",
    "        sample1_values = s3[\"Legendary\"] == True\n",
    "        sample2_values = s4[\"Legendary\"] == False\n",
    "        \n",
    "        t_stat, p_value = stats.ttest_ind(sample1_values, sample2_values)\n",
    "        results[feature] = p_value\n",
    "\n",
    "    return results\n"
   ]
  },
  {
   "cell_type": "code",
   "execution_count": 6,
   "metadata": {},
   "outputs": [
    {
     "data": {
      "text/plain": [
       "{'HP': 1.3486833199987016e-16,\n",
       " 'Attack': 1.3486833199987016e-16,\n",
       " 'Defense': 1.3486833199987016e-16,\n",
       " 'Sp. Atk': 1.3486833199987016e-16,\n",
       " 'Sp. Def': 1.3486833199987016e-16,\n",
       " 'Speed': 1.3486833199987016e-16,\n",
       " 'Total': 1.3486833199987016e-16}"
      ]
     },
     "execution_count": 6,
     "metadata": {},
     "output_type": "execute_result"
    }
   ],
   "source": [
    "s3 = pokemon_df.sample(30)\n",
    "s4 = pokemon_df.sample(30)\n",
    "\n",
    "results = t_test_features(s3, s4)\n",
    "results"
   ]
  },
  {
   "cell_type": "markdown",
   "metadata": {},
   "source": [
    "#### From the test results above, what conclusion can you make? Do Legendary and non-Legendary pokemons have significantly different stats on each feature?"
   ]
  },
  {
   "cell_type": "code",
   "execution_count": 7,
   "metadata": {},
   "outputs": [],
   "source": [
    "# Your comment here\n",
    "\n",
    "#The null hypothesis says that there is no significant difference between the two groups being compared. \n",
    "#Since the p_values are low, we can say that poke that are legendary have very different stats then non legendary"
   ]
  },
  {
   "cell_type": "markdown",
   "metadata": {},
   "source": [
    "#### Next, conduct t-test for Generation 1 and Generation 2 pokemons."
   ]
  },
  {
   "cell_type": "code",
   "execution_count": 17,
   "metadata": {},
   "outputs": [],
   "source": [
    "# Your code here\n",
    "\n",
    "def t_test_features(s5, s6, features=['HP', 'Attack', 'Defense', 'Sp. Atk', 'Sp. Def', 'Speed', 'Total']):\n",
    "    \n",
    "    results = {}\n",
    "    \n",
    "    for feature in features:\n",
    "\n",
    "        sample1_values = s5[\"Generation\"] == 1\n",
    "        sample2_values = s6[\"Generation\"] == 2\n",
    "        \n",
    "        t_stat, p_value = stats.ttest_ind(sample1_values, sample2_values)\n",
    "        results[feature] = p_value\n",
    "\n",
    "    return results\n"
   ]
  },
  {
   "cell_type": "code",
   "execution_count": 19,
   "metadata": {},
   "outputs": [
    {
     "data": {
      "text/plain": [
       "{'HP': 0.7014144686668059,\n",
       " 'Attack': 0.7014144686668059,\n",
       " 'Defense': 0.7014144686668059,\n",
       " 'Sp. Atk': 0.7014144686668059,\n",
       " 'Sp. Def': 0.7014144686668059,\n",
       " 'Speed': 0.7014144686668059,\n",
       " 'Total': 0.7014144686668059}"
      ]
     },
     "execution_count": 19,
     "metadata": {},
     "output_type": "execute_result"
    }
   ],
   "source": [
    "s5 = pokemon_df.sample(100)\n",
    "s6 = pokemon_df.sample(100)\n",
    "\n",
    "results = t_test_features(s5, s6)\n",
    "results"
   ]
  },
  {
   "cell_type": "markdown",
   "metadata": {},
   "source": [
    "#### What conclusions can you make?"
   ]
  },
  {
   "cell_type": "code",
   "execution_count": 10,
   "metadata": {},
   "outputs": [],
   "source": [
    "# Your comment here\n",
    "\n",
    "#based on the pvalues, There is no significant diference between gen1 and gen2 stats"
   ]
  },
  {
   "cell_type": "markdown",
   "metadata": {},
   "source": [
    "#### Compare pokemons who have single type vs those having two types."
   ]
  },
  {
   "cell_type": "code",
   "execution_count": 11,
   "metadata": {},
   "outputs": [],
   "source": [
    "# Your code here\n",
    "\n",
    "def t_test_features(s7, s8, features=['HP', 'Attack', 'Defense', 'Sp. Atk', 'Sp. Def', 'Speed', 'Total']):\n",
    "    results = {}\n",
    "    \n",
    "    for feature in features:\n",
    "\n",
    "        sample1_values = s7[\"Type 2\"].isna()\n",
    "        sample2_values = s8[\"Type 2\"].notna()\n",
    "        \n",
    "        t_stat, p_value = stats.ttest_ind(sample1_values, sample2_values)\n",
    "        results[feature] = p_value\n",
    "\n",
    "    return results\n",
    "\n"
   ]
  },
  {
   "cell_type": "code",
   "execution_count": 12,
   "metadata": {},
   "outputs": [
    {
     "data": {
      "text/plain": [
       "{'HP': 0.319127359025322,\n",
       " 'Attack': 0.319127359025322,\n",
       " 'Defense': 0.319127359025322,\n",
       " 'Sp. Atk': 0.319127359025322,\n",
       " 'Sp. Def': 0.319127359025322,\n",
       " 'Speed': 0.319127359025322,\n",
       " 'Total': 0.319127359025322}"
      ]
     },
     "execution_count": 12,
     "metadata": {},
     "output_type": "execute_result"
    }
   ],
   "source": [
    "s7 = pokemon_df.sample(100)\n",
    "s8 = pokemon_df.sample(100)\n",
    "\n",
    "results = t_test_features(s7, s8)\n",
    "results"
   ]
  },
  {
   "cell_type": "markdown",
   "metadata": {},
   "source": [
    "#### What conclusions can you make?"
   ]
  },
  {
   "cell_type": "code",
   "execution_count": 13,
   "metadata": {},
   "outputs": [],
   "source": [
    "# Your comment here\n",
    "\n",
    "#there is no significant difference for stats of gen1 and gen2"
   ]
  },
  {
   "cell_type": "markdown",
   "metadata": {},
   "source": [
    "#### Now, we want to compare whether there are significant differences of `Attack` vs `Defense`  and  `Sp. Atk` vs `Sp. Def` of all pokemons. Please write your code below.\n",
    "\n",
    "*Hint: are you comparing different populations or the same population?*"
   ]
  },
  {
   "cell_type": "code",
   "execution_count": 14,
   "metadata": {},
   "outputs": [],
   "source": [
    "# Your code here\n",
    "\n",
    "def t_test_features(s9, features=[('Attack', 'Defense'), ('Sp. Atk', 'Sp. Def')]):\n",
    "    results = {}\n",
    "    \n",
    "    for feature_AD_S in features:\n",
    "        feature1, feature2 = feature_AD_S\n",
    "\n",
    "        sample1_values = s9[feature1]\n",
    "        sample2_values = s9[feature2]\n",
    "\n",
    "        \n",
    "        t_stat, p_value = stats.ttest_ind(sample1_values, sample2_values)\n",
    "        results[feature1, feature2] = p_value\n",
    "\n",
    "    return results\n",
    "\n",
    "\n"
   ]
  },
  {
   "cell_type": "code",
   "execution_count": 15,
   "metadata": {},
   "outputs": [
    {
     "data": {
      "text/plain": [
       "{('Attack', 'Defense'): 0.1741486659673652,\n",
       " ('Sp. Atk', 'Sp. Def'): 0.832201833368861}"
      ]
     },
     "execution_count": 15,
     "metadata": {},
     "output_type": "execute_result"
    }
   ],
   "source": [
    "s9 = pokemon_df.sample(100)\n",
    "\n",
    "results = t_test_features(s9)\n",
    "results"
   ]
  },
  {
   "cell_type": "markdown",
   "metadata": {},
   "source": [
    "#### What conclusions can you make?"
   ]
  },
  {
   "cell_type": "code",
   "execution_count": 16,
   "metadata": {},
   "outputs": [],
   "source": [
    "# Your comment here\n",
    "\n",
    "#for attack vs defense we cannot say there is a significant difference for the sample.\n",
    "\n",
    "#for speed attack and defense its the same\n",
    "\n",
    "#In both cases, based on the p-values, there is no strong statistical \n",
    "#evidence that these attributes have very different means for all poke in the sample\n",
    "\n",
    "\n",
    "\n"
   ]
  },
  {
   "cell_type": "code",
   "execution_count": null,
   "metadata": {},
   "outputs": [],
   "source": []
  }
 ],
 "metadata": {
  "kernelspec": {
   "display_name": "Python 3",
   "language": "python",
   "name": "python3"
  },
  "language_info": {
   "codemirror_mode": {
    "name": "ipython",
    "version": 3
   },
   "file_extension": ".py",
   "mimetype": "text/x-python",
   "name": "python",
   "nbconvert_exporter": "python",
   "pygments_lexer": "ipython3",
   "version": "3.11.3"
  }
 },
 "nbformat": 4,
 "nbformat_minor": 2
}
